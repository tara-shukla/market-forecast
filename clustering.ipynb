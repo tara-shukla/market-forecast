{
  "nbformat": 4,
  "nbformat_minor": 0,
  "metadata": {
    "colab": {
      "provenance": [],
      "authorship_tag": "ABX9TyMvjarslnRO3teHwrZITKUB",
      "include_colab_link": true
    },
    "kernelspec": {
      "name": "python3",
      "display_name": "Python 3"
    },
    "language_info": {
      "name": "python"
    }
  },
  "cells": [
    {
      "cell_type": "markdown",
      "metadata": {
        "id": "view-in-github",
        "colab_type": "text"
      },
      "source": [
        "<a href=\"https://colab.research.google.com/github/tara-shukla/nyt-connections/blob/main/clustering.ipynb\" target=\"_parent\"><img src=\"https://colab.research.google.com/assets/colab-badge.svg\" alt=\"Open In Colab\"/></a>"
      ]
    },
    {
      "cell_type": "code",
      "source": [
        "!pip install levenshtein"
      ],
      "metadata": {
        "colab": {
          "base_uri": "https://localhost:8080/"
        },
        "id": "nQ7hhWu0V3eX",
        "outputId": "23a6a186-2dd0-4f24-d96c-a686709fc64a"
      },
      "execution_count": 105,
      "outputs": [
        {
          "output_type": "stream",
          "name": "stdout",
          "text": [
            "Requirement already satisfied: levenshtein in /usr/local/lib/python3.10/dist-packages (0.25.1)\n",
            "Requirement already satisfied: rapidfuzz<4.0.0,>=3.8.0 in /usr/local/lib/python3.10/dist-packages (from levenshtein) (3.9.3)\n"
          ]
        }
      ]
    },
    {
      "cell_type": "code",
      "execution_count": 106,
      "metadata": {
        "colab": {
          "base_uri": "https://localhost:8080/"
        },
        "id": "o0hcXdk2K3_o",
        "outputId": "554124cb-d538-43da-9399-7f743a489673"
      },
      "outputs": [
        {
          "output_type": "stream",
          "name": "stdout",
          "text": [
            "--2024-06-21 21:24:54--  https://drive.google.com/uc?export=download&id=1HxVFZQP-Hnq_w7dsMd1y0CzzlZb4ZXiU\n",
            "Resolving drive.google.com (drive.google.com)... 172.253.117.100, 172.253.117.138, 172.253.117.113, ...\n",
            "Connecting to drive.google.com (drive.google.com)|172.253.117.100|:443... connected.\n",
            "HTTP request sent, awaiting response... 303 See Other\n",
            "Location: https://drive.usercontent.google.com/download?id=1HxVFZQP-Hnq_w7dsMd1y0CzzlZb4ZXiU&export=download [following]\n",
            "--2024-06-21 21:24:54--  https://drive.usercontent.google.com/download?id=1HxVFZQP-Hnq_w7dsMd1y0CzzlZb4ZXiU&export=download\n",
            "Resolving drive.usercontent.google.com (drive.usercontent.google.com)... 74.125.197.132, 2607:f8b0:400e:c03::84\n",
            "Connecting to drive.usercontent.google.com (drive.usercontent.google.com)|74.125.197.132|:443... connected.\n",
            "HTTP request sent, awaiting response... 200 OK\n",
            "Length: 70678 (69K) [application/octet-stream]\n",
            "Saving to: ‘nyt.csv’\n",
            "\n",
            "nyt.csv             100%[===================>]  69.02K  --.-KB/s    in 0.001s  \n",
            "\n",
            "2024-06-21 21:24:55 (89.9 MB/s) - ‘nyt.csv’ saved [70678/70678]\n",
            "\n"
          ]
        }
      ],
      "source": [
        "!wget -O nyt.csv \"https://drive.google.com/uc?export=download&id=1HxVFZQP-Hnq_w7dsMd1y0CzzlZb4ZXiU\""
      ]
    },
    {
      "cell_type": "code",
      "source": [
        "import pandas as pd\n",
        "import numpy as np\n",
        "import matplotlib.pyplot as plt\n"
      ],
      "metadata": {
        "id": "iu9hEbX4NrTX"
      },
      "execution_count": 107,
      "outputs": []
    },
    {
      "cell_type": "code",
      "source": [
        "data = pd.read_csv('nyt.csv')\n",
        "data.head()"
      ],
      "metadata": {
        "colab": {
          "base_uri": "https://localhost:8080/",
          "height": 293
        },
        "id": "mZzGA_w-NQAY",
        "outputId": "f920b758-409e-41d3-8fd1-9b36d8ac540c"
      },
      "execution_count": 108,
      "outputs": [
        {
          "output_type": "execute_result",
          "data": {
            "text/plain": [
              "         purple_titles                    purple_words  \\\n",
              "0          PALINDROMES     KAYAK, LEVEL, MOM, RACE CAR   \n",
              "1    LETTER HOMOPHONES            ARE, QUEUE, SEA, WHY   \n",
              "2    MEMBERS OF A TRIO      AMIGO, KING, STOOGE, TENOR   \n",
              "3  ___ MAN SUPERHEROES        BAT, IRON, SPIDER, SUPER   \n",
              "4      CLUE CHARACTERS   GREEN, MUSTARD, PLUM, SCARLET   \n",
              "\n",
              "               blue_titles                   blue_words  \\\n",
              "0            KEYBOARD KEYS   OPTION, RETURN, SHIFT, TAB   \n",
              "1                MAGAZINES    ESSENCE, PEOPLE, TIME, US   \n",
              "2  DOG BREEDS, INFORMALLY           LAB, PEKE, PIT, POM   \n",
              "3           CLEANING VERBS     DUST, MOP, SWEEP, VACUUM   \n",
              "4         SYNONYMS FOR SAD        BLUE, DOWN, GLUM, LOW   \n",
              "\n",
              "                   green_titles                        green_words  \\\n",
              "0                     NBA TEAMS            BUCKS, HEAT, JAZZ, NETS   \n",
              "1               UNITS OF LENGTH           FOOT, LEAGUE, MILE, YARD   \n",
              "2              SYNONYMS FOR EAT          CHOW, GOBBLE, SCARF, WOLF   \n",
              "3  MUSICALS BEGINNING WITH \"C\"    CABARET, CAROUSEL, CATS, CHICAGO   \n",
              "4                    CONDIMENTS      KETCHUP, MAYO, RELISH, TARTAR   \n",
              "\n",
              "        yellow_titles                    yellow_words  \n",
              "0         WET WEATHER         HAIL, RAIN, SLEET, SNOW  \n",
              "1            FOOTWEAR     BOOT, LOAFER, PUMP, SNEAKER  \n",
              "2     FACIAL FEATURES         CHEEK, EYE, MOUTH, NOSE  \n",
              "3      SNEAKER BRANDS      ADIDAS, NIKE, PUMA, REEBOK  \n",
              "4  STREAMING SERVICES   HULU, NETFLIX, PEACOCK, PRIME  "
            ],
            "text/html": [
              "\n",
              "  <div id=\"df-e40420cf-24fa-42f6-b7dc-54b018038c61\" class=\"colab-df-container\">\n",
              "    <div>\n",
              "<style scoped>\n",
              "    .dataframe tbody tr th:only-of-type {\n",
              "        vertical-align: middle;\n",
              "    }\n",
              "\n",
              "    .dataframe tbody tr th {\n",
              "        vertical-align: top;\n",
              "    }\n",
              "\n",
              "    .dataframe thead th {\n",
              "        text-align: right;\n",
              "    }\n",
              "</style>\n",
              "<table border=\"1\" class=\"dataframe\">\n",
              "  <thead>\n",
              "    <tr style=\"text-align: right;\">\n",
              "      <th></th>\n",
              "      <th>purple_titles</th>\n",
              "      <th>purple_words</th>\n",
              "      <th>blue_titles</th>\n",
              "      <th>blue_words</th>\n",
              "      <th>green_titles</th>\n",
              "      <th>green_words</th>\n",
              "      <th>yellow_titles</th>\n",
              "      <th>yellow_words</th>\n",
              "    </tr>\n",
              "  </thead>\n",
              "  <tbody>\n",
              "    <tr>\n",
              "      <th>0</th>\n",
              "      <td>PALINDROMES</td>\n",
              "      <td>KAYAK, LEVEL, MOM, RACE CAR</td>\n",
              "      <td>KEYBOARD KEYS</td>\n",
              "      <td>OPTION, RETURN, SHIFT, TAB</td>\n",
              "      <td>NBA TEAMS</td>\n",
              "      <td>BUCKS, HEAT, JAZZ, NETS</td>\n",
              "      <td>WET WEATHER</td>\n",
              "      <td>HAIL, RAIN, SLEET, SNOW</td>\n",
              "    </tr>\n",
              "    <tr>\n",
              "      <th>1</th>\n",
              "      <td>LETTER HOMOPHONES</td>\n",
              "      <td>ARE, QUEUE, SEA, WHY</td>\n",
              "      <td>MAGAZINES</td>\n",
              "      <td>ESSENCE, PEOPLE, TIME, US</td>\n",
              "      <td>UNITS OF LENGTH</td>\n",
              "      <td>FOOT, LEAGUE, MILE, YARD</td>\n",
              "      <td>FOOTWEAR</td>\n",
              "      <td>BOOT, LOAFER, PUMP, SNEAKER</td>\n",
              "    </tr>\n",
              "    <tr>\n",
              "      <th>2</th>\n",
              "      <td>MEMBERS OF A TRIO</td>\n",
              "      <td>AMIGO, KING, STOOGE, TENOR</td>\n",
              "      <td>DOG BREEDS, INFORMALLY</td>\n",
              "      <td>LAB, PEKE, PIT, POM</td>\n",
              "      <td>SYNONYMS FOR EAT</td>\n",
              "      <td>CHOW, GOBBLE, SCARF, WOLF</td>\n",
              "      <td>FACIAL FEATURES</td>\n",
              "      <td>CHEEK, EYE, MOUTH, NOSE</td>\n",
              "    </tr>\n",
              "    <tr>\n",
              "      <th>3</th>\n",
              "      <td>___ MAN SUPERHEROES</td>\n",
              "      <td>BAT, IRON, SPIDER, SUPER</td>\n",
              "      <td>CLEANING VERBS</td>\n",
              "      <td>DUST, MOP, SWEEP, VACUUM</td>\n",
              "      <td>MUSICALS BEGINNING WITH \"C\"</td>\n",
              "      <td>CABARET, CAROUSEL, CATS, CHICAGO</td>\n",
              "      <td>SNEAKER BRANDS</td>\n",
              "      <td>ADIDAS, NIKE, PUMA, REEBOK</td>\n",
              "    </tr>\n",
              "    <tr>\n",
              "      <th>4</th>\n",
              "      <td>CLUE CHARACTERS</td>\n",
              "      <td>GREEN, MUSTARD, PLUM, SCARLET</td>\n",
              "      <td>SYNONYMS FOR SAD</td>\n",
              "      <td>BLUE, DOWN, GLUM, LOW</td>\n",
              "      <td>CONDIMENTS</td>\n",
              "      <td>KETCHUP, MAYO, RELISH, TARTAR</td>\n",
              "      <td>STREAMING SERVICES</td>\n",
              "      <td>HULU, NETFLIX, PEACOCK, PRIME</td>\n",
              "    </tr>\n",
              "  </tbody>\n",
              "</table>\n",
              "</div>\n",
              "    <div class=\"colab-df-buttons\">\n",
              "\n",
              "  <div class=\"colab-df-container\">\n",
              "    <button class=\"colab-df-convert\" onclick=\"convertToInteractive('df-e40420cf-24fa-42f6-b7dc-54b018038c61')\"\n",
              "            title=\"Convert this dataframe to an interactive table.\"\n",
              "            style=\"display:none;\">\n",
              "\n",
              "  <svg xmlns=\"http://www.w3.org/2000/svg\" height=\"24px\" viewBox=\"0 -960 960 960\">\n",
              "    <path d=\"M120-120v-720h720v720H120Zm60-500h600v-160H180v160Zm220 220h160v-160H400v160Zm0 220h160v-160H400v160ZM180-400h160v-160H180v160Zm440 0h160v-160H620v160ZM180-180h160v-160H180v160Zm440 0h160v-160H620v160Z\"/>\n",
              "  </svg>\n",
              "    </button>\n",
              "\n",
              "  <style>\n",
              "    .colab-df-container {\n",
              "      display:flex;\n",
              "      gap: 12px;\n",
              "    }\n",
              "\n",
              "    .colab-df-convert {\n",
              "      background-color: #E8F0FE;\n",
              "      border: none;\n",
              "      border-radius: 50%;\n",
              "      cursor: pointer;\n",
              "      display: none;\n",
              "      fill: #1967D2;\n",
              "      height: 32px;\n",
              "      padding: 0 0 0 0;\n",
              "      width: 32px;\n",
              "    }\n",
              "\n",
              "    .colab-df-convert:hover {\n",
              "      background-color: #E2EBFA;\n",
              "      box-shadow: 0px 1px 2px rgba(60, 64, 67, 0.3), 0px 1px 3px 1px rgba(60, 64, 67, 0.15);\n",
              "      fill: #174EA6;\n",
              "    }\n",
              "\n",
              "    .colab-df-buttons div {\n",
              "      margin-bottom: 4px;\n",
              "    }\n",
              "\n",
              "    [theme=dark] .colab-df-convert {\n",
              "      background-color: #3B4455;\n",
              "      fill: #D2E3FC;\n",
              "    }\n",
              "\n",
              "    [theme=dark] .colab-df-convert:hover {\n",
              "      background-color: #434B5C;\n",
              "      box-shadow: 0px 1px 3px 1px rgba(0, 0, 0, 0.15);\n",
              "      filter: drop-shadow(0px 1px 2px rgba(0, 0, 0, 0.3));\n",
              "      fill: #FFFFFF;\n",
              "    }\n",
              "  </style>\n",
              "\n",
              "    <script>\n",
              "      const buttonEl =\n",
              "        document.querySelector('#df-e40420cf-24fa-42f6-b7dc-54b018038c61 button.colab-df-convert');\n",
              "      buttonEl.style.display =\n",
              "        google.colab.kernel.accessAllowed ? 'block' : 'none';\n",
              "\n",
              "      async function convertToInteractive(key) {\n",
              "        const element = document.querySelector('#df-e40420cf-24fa-42f6-b7dc-54b018038c61');\n",
              "        const dataTable =\n",
              "          await google.colab.kernel.invokeFunction('convertToInteractive',\n",
              "                                                    [key], {});\n",
              "        if (!dataTable) return;\n",
              "\n",
              "        const docLinkHtml = 'Like what you see? Visit the ' +\n",
              "          '<a target=\"_blank\" href=https://colab.research.google.com/notebooks/data_table.ipynb>data table notebook</a>'\n",
              "          + ' to learn more about interactive tables.';\n",
              "        element.innerHTML = '';\n",
              "        dataTable['output_type'] = 'display_data';\n",
              "        await google.colab.output.renderOutput(dataTable, element);\n",
              "        const docLink = document.createElement('div');\n",
              "        docLink.innerHTML = docLinkHtml;\n",
              "        element.appendChild(docLink);\n",
              "      }\n",
              "    </script>\n",
              "  </div>\n",
              "\n",
              "\n",
              "<div id=\"df-cd317c52-026f-4326-b1f0-470bc9dd509e\">\n",
              "  <button class=\"colab-df-quickchart\" onclick=\"quickchart('df-cd317c52-026f-4326-b1f0-470bc9dd509e')\"\n",
              "            title=\"Suggest charts\"\n",
              "            style=\"display:none;\">\n",
              "\n",
              "<svg xmlns=\"http://www.w3.org/2000/svg\" height=\"24px\"viewBox=\"0 0 24 24\"\n",
              "     width=\"24px\">\n",
              "    <g>\n",
              "        <path d=\"M19 3H5c-1.1 0-2 .9-2 2v14c0 1.1.9 2 2 2h14c1.1 0 2-.9 2-2V5c0-1.1-.9-2-2-2zM9 17H7v-7h2v7zm4 0h-2V7h2v10zm4 0h-2v-4h2v4z\"/>\n",
              "    </g>\n",
              "</svg>\n",
              "  </button>\n",
              "\n",
              "<style>\n",
              "  .colab-df-quickchart {\n",
              "      --bg-color: #E8F0FE;\n",
              "      --fill-color: #1967D2;\n",
              "      --hover-bg-color: #E2EBFA;\n",
              "      --hover-fill-color: #174EA6;\n",
              "      --disabled-fill-color: #AAA;\n",
              "      --disabled-bg-color: #DDD;\n",
              "  }\n",
              "\n",
              "  [theme=dark] .colab-df-quickchart {\n",
              "      --bg-color: #3B4455;\n",
              "      --fill-color: #D2E3FC;\n",
              "      --hover-bg-color: #434B5C;\n",
              "      --hover-fill-color: #FFFFFF;\n",
              "      --disabled-bg-color: #3B4455;\n",
              "      --disabled-fill-color: #666;\n",
              "  }\n",
              "\n",
              "  .colab-df-quickchart {\n",
              "    background-color: var(--bg-color);\n",
              "    border: none;\n",
              "    border-radius: 50%;\n",
              "    cursor: pointer;\n",
              "    display: none;\n",
              "    fill: var(--fill-color);\n",
              "    height: 32px;\n",
              "    padding: 0;\n",
              "    width: 32px;\n",
              "  }\n",
              "\n",
              "  .colab-df-quickchart:hover {\n",
              "    background-color: var(--hover-bg-color);\n",
              "    box-shadow: 0 1px 2px rgba(60, 64, 67, 0.3), 0 1px 3px 1px rgba(60, 64, 67, 0.15);\n",
              "    fill: var(--button-hover-fill-color);\n",
              "  }\n",
              "\n",
              "  .colab-df-quickchart-complete:disabled,\n",
              "  .colab-df-quickchart-complete:disabled:hover {\n",
              "    background-color: var(--disabled-bg-color);\n",
              "    fill: var(--disabled-fill-color);\n",
              "    box-shadow: none;\n",
              "  }\n",
              "\n",
              "  .colab-df-spinner {\n",
              "    border: 2px solid var(--fill-color);\n",
              "    border-color: transparent;\n",
              "    border-bottom-color: var(--fill-color);\n",
              "    animation:\n",
              "      spin 1s steps(1) infinite;\n",
              "  }\n",
              "\n",
              "  @keyframes spin {\n",
              "    0% {\n",
              "      border-color: transparent;\n",
              "      border-bottom-color: var(--fill-color);\n",
              "      border-left-color: var(--fill-color);\n",
              "    }\n",
              "    20% {\n",
              "      border-color: transparent;\n",
              "      border-left-color: var(--fill-color);\n",
              "      border-top-color: var(--fill-color);\n",
              "    }\n",
              "    30% {\n",
              "      border-color: transparent;\n",
              "      border-left-color: var(--fill-color);\n",
              "      border-top-color: var(--fill-color);\n",
              "      border-right-color: var(--fill-color);\n",
              "    }\n",
              "    40% {\n",
              "      border-color: transparent;\n",
              "      border-right-color: var(--fill-color);\n",
              "      border-top-color: var(--fill-color);\n",
              "    }\n",
              "    60% {\n",
              "      border-color: transparent;\n",
              "      border-right-color: var(--fill-color);\n",
              "    }\n",
              "    80% {\n",
              "      border-color: transparent;\n",
              "      border-right-color: var(--fill-color);\n",
              "      border-bottom-color: var(--fill-color);\n",
              "    }\n",
              "    90% {\n",
              "      border-color: transparent;\n",
              "      border-bottom-color: var(--fill-color);\n",
              "    }\n",
              "  }\n",
              "</style>\n",
              "\n",
              "  <script>\n",
              "    async function quickchart(key) {\n",
              "      const quickchartButtonEl =\n",
              "        document.querySelector('#' + key + ' button');\n",
              "      quickchartButtonEl.disabled = true;  // To prevent multiple clicks.\n",
              "      quickchartButtonEl.classList.add('colab-df-spinner');\n",
              "      try {\n",
              "        const charts = await google.colab.kernel.invokeFunction(\n",
              "            'suggestCharts', [key], {});\n",
              "      } catch (error) {\n",
              "        console.error('Error during call to suggestCharts:', error);\n",
              "      }\n",
              "      quickchartButtonEl.classList.remove('colab-df-spinner');\n",
              "      quickchartButtonEl.classList.add('colab-df-quickchart-complete');\n",
              "    }\n",
              "    (() => {\n",
              "      let quickchartButtonEl =\n",
              "        document.querySelector('#df-cd317c52-026f-4326-b1f0-470bc9dd509e button');\n",
              "      quickchartButtonEl.style.display =\n",
              "        google.colab.kernel.accessAllowed ? 'block' : 'none';\n",
              "    })();\n",
              "  </script>\n",
              "</div>\n",
              "\n",
              "    </div>\n",
              "  </div>\n"
            ],
            "application/vnd.google.colaboratory.intrinsic+json": {
              "type": "dataframe",
              "variable_name": "data",
              "summary": "{\n  \"name\": \"data\",\n  \"rows\": 372,\n  \"fields\": [\n    {\n      \"column\": \"purple_titles\",\n      \"properties\": {\n        \"dtype\": \"string\",\n        \"num_unique_values\": 365,\n        \"samples\": [\n          \"___ PEPPER\",\n          \"MALE ANIMALS\",\n          \"MR. ___\"\n        ],\n        \"semantic_type\": \"\",\n        \"description\": \"\"\n      }\n    },\n    {\n      \"column\": \"purple_words\",\n      \"properties\": {\n        \"dtype\": \"string\",\n        \"num_unique_values\": 372,\n        \"samples\": [\n          \" CARROT, HURTS, JEWEL, OM\",\n          \" BOAR, BUCK, BULL, JACK\",\n          \" BEAN, CLEAN, FOX, PEANUT\"\n        ],\n        \"semantic_type\": \"\",\n        \"description\": \"\"\n      }\n    },\n    {\n      \"column\": \"blue_titles\",\n      \"properties\": {\n        \"dtype\": \"string\",\n        \"num_unique_values\": 363,\n        \"samples\": [\n          \"CAR BRANDS\",\n          \"LUCKY CHARMS MARSHMALLOWS\",\n          \"SHADES OF GREEN\"\n        ],\n        \"semantic_type\": \"\",\n        \"description\": \"\"\n      }\n    },\n    {\n      \"column\": \"blue_words\",\n      \"properties\": {\n        \"dtype\": \"string\",\n        \"num_unique_values\": 372,\n        \"samples\": [\n          \" CYLINDER, PIN, SPRING, TUMBLER\",\n          \" PAPER, ROCK, SCISSORS, SHOOT\",\n          \" EMERALD, FOREST, KELLY, OLIVE\"\n        ],\n        \"semantic_type\": \"\",\n        \"description\": \"\"\n      }\n    },\n    {\n      \"column\": \"green_titles\",\n      \"properties\": {\n        \"dtype\": \"string\",\n        \"num_unique_values\": 364,\n        \"samples\": [\n          \"NAME PREFIXES\",\n          \"MUSIC GENRES\",\n          \"TREE NUTS\"\n        ],\n        \"semantic_type\": \"\",\n        \"description\": \"\"\n      }\n    },\n    {\n      \"column\": \"green_words\",\n      \"properties\": {\n        \"dtype\": \"string\",\n        \"num_unique_values\": 369,\n        \"samples\": [\n          \" LIKE, LITERALLY, UM, WELL\",\n          \" BLUES, COUNTRY, FUNK, SOUL\",\n          \" ALMOND, CASHEW, PECAN, WALNUT\"\n        ],\n        \"semantic_type\": \"\",\n        \"description\": \"\"\n      }\n    },\n    {\n      \"column\": \"yellow_titles\",\n      \"properties\": {\n        \"dtype\": \"string\",\n        \"num_unique_values\": 361,\n        \"samples\": [\n          \"MUNICIPALITIES\",\n          \"PLEASANT SMELLS\",\n          \"COFFEE DRINKS\"\n        ],\n        \"semantic_type\": \"\",\n        \"description\": \"\"\n      }\n    },\n    {\n      \"column\": \"yellow_words\",\n      \"properties\": {\n        \"dtype\": \"string\",\n        \"num_unique_values\": 367,\n        \"samples\": [\n          \" LIGHT, MELLOW, MILD, SOFT\",\n          \" AROMA, BOUQUET, FRAGRANCE, SCENT\",\n          \" AMERICANO, CAPPUCCINO, ESPRESSO, LATTE\"\n        ],\n        \"semantic_type\": \"\",\n        \"description\": \"\"\n      }\n    }\n  ]\n}"
            }
          },
          "metadata": {},
          "execution_count": 108
        }
      ]
    },
    {
      "cell_type": "code",
      "source": [
        "word_cols = [\"purple_words\", \"blue_words\", \"green_words\", \"yellow_words\"]\n",
        "\n",
        "def get_all_words(colname):\n",
        "  for group in data[colname]:\n",
        "    for word in group.split(','):\n",
        "      yield word.strip()\n",
        "purple_all = list(get_all_words(\"purple_words\"))\n",
        "yellow_all = list(get_all_words(\"yellow_words\"))\n",
        "green_all = list(get_all_words(\"green_words\"))\n",
        "blue_all = list(get_all_words(\"blue_words\"))\n",
        "\n",
        "\n",
        "all_words = purple_all + yellow_all + green_all + blue_all\n"
      ],
      "metadata": {
        "id": "s-Sm-L7eN0aj"
      },
      "execution_count": 109,
      "outputs": []
    },
    {
      "cell_type": "code",
      "source": [
        "\n",
        "str_groups = pd.DataFrame(data[word_cols])\n",
        "def process_groups(col):\n",
        "    return col.apply(lambda x: x.split(','))\n",
        "\n",
        "all_groups = str_groups.apply(process_groups, axis=0)\n",
        "all_groups.head()"
      ],
      "metadata": {
        "colab": {
          "base_uri": "https://localhost:8080/",
          "height": 206
        },
        "id": "EZtcGvZZSGK3",
        "outputId": "3905ae2e-6d1c-4d51-c2c5-cfe761d51030"
      },
      "execution_count": 110,
      "outputs": [
        {
          "output_type": "execute_result",
          "data": {
            "text/plain": [
              "                          purple_words                        blue_words  \\\n",
              "0    [ KAYAK,  LEVEL,  MOM,  RACE CAR]  [ OPTION,  RETURN,  SHIFT,  TAB]   \n",
              "1           [ ARE,  QUEUE,  SEA,  WHY]   [ ESSENCE,  PEOPLE,  TIME,  US]   \n",
              "2     [ AMIGO,  KING,  STOOGE,  TENOR]         [ LAB,  PEKE,  PIT,  POM]   \n",
              "3       [ BAT,  IRON,  SPIDER,  SUPER]    [ DUST,  MOP,  SWEEP,  VACUUM]   \n",
              "4  [ GREEN,  MUSTARD,  PLUM,  SCARLET]       [ BLUE,  DOWN,  GLUM,  LOW]   \n",
              "\n",
              "                              green_words                         yellow_words  \n",
              "0           [ BUCKS,  HEAT,  JAZZ,  NETS]        [ HAIL,  RAIN,  SLEET,  SNOW]  \n",
              "1          [ FOOT,  LEAGUE,  MILE,  YARD]    [ BOOT,  LOAFER,  PUMP,  SNEAKER]  \n",
              "2         [ CHOW,  GOBBLE,  SCARF,  WOLF]        [ CHEEK,  EYE,  MOUTH,  NOSE]  \n",
              "3  [ CABARET,  CAROUSEL,  CATS,  CHICAGO]     [ ADIDAS,  NIKE,  PUMA,  REEBOK]  \n",
              "4     [ KETCHUP,  MAYO,  RELISH,  TARTAR]  [ HULU,  NETFLIX,  PEACOCK,  PRIME]  "
            ],
            "text/html": [
              "\n",
              "  <div id=\"df-d263680e-a32c-4c21-827e-4c11ca4e21d5\" class=\"colab-df-container\">\n",
              "    <div>\n",
              "<style scoped>\n",
              "    .dataframe tbody tr th:only-of-type {\n",
              "        vertical-align: middle;\n",
              "    }\n",
              "\n",
              "    .dataframe tbody tr th {\n",
              "        vertical-align: top;\n",
              "    }\n",
              "\n",
              "    .dataframe thead th {\n",
              "        text-align: right;\n",
              "    }\n",
              "</style>\n",
              "<table border=\"1\" class=\"dataframe\">\n",
              "  <thead>\n",
              "    <tr style=\"text-align: right;\">\n",
              "      <th></th>\n",
              "      <th>purple_words</th>\n",
              "      <th>blue_words</th>\n",
              "      <th>green_words</th>\n",
              "      <th>yellow_words</th>\n",
              "    </tr>\n",
              "  </thead>\n",
              "  <tbody>\n",
              "    <tr>\n",
              "      <th>0</th>\n",
              "      <td>[ KAYAK,  LEVEL,  MOM,  RACE CAR]</td>\n",
              "      <td>[ OPTION,  RETURN,  SHIFT,  TAB]</td>\n",
              "      <td>[ BUCKS,  HEAT,  JAZZ,  NETS]</td>\n",
              "      <td>[ HAIL,  RAIN,  SLEET,  SNOW]</td>\n",
              "    </tr>\n",
              "    <tr>\n",
              "      <th>1</th>\n",
              "      <td>[ ARE,  QUEUE,  SEA,  WHY]</td>\n",
              "      <td>[ ESSENCE,  PEOPLE,  TIME,  US]</td>\n",
              "      <td>[ FOOT,  LEAGUE,  MILE,  YARD]</td>\n",
              "      <td>[ BOOT,  LOAFER,  PUMP,  SNEAKER]</td>\n",
              "    </tr>\n",
              "    <tr>\n",
              "      <th>2</th>\n",
              "      <td>[ AMIGO,  KING,  STOOGE,  TENOR]</td>\n",
              "      <td>[ LAB,  PEKE,  PIT,  POM]</td>\n",
              "      <td>[ CHOW,  GOBBLE,  SCARF,  WOLF]</td>\n",
              "      <td>[ CHEEK,  EYE,  MOUTH,  NOSE]</td>\n",
              "    </tr>\n",
              "    <tr>\n",
              "      <th>3</th>\n",
              "      <td>[ BAT,  IRON,  SPIDER,  SUPER]</td>\n",
              "      <td>[ DUST,  MOP,  SWEEP,  VACUUM]</td>\n",
              "      <td>[ CABARET,  CAROUSEL,  CATS,  CHICAGO]</td>\n",
              "      <td>[ ADIDAS,  NIKE,  PUMA,  REEBOK]</td>\n",
              "    </tr>\n",
              "    <tr>\n",
              "      <th>4</th>\n",
              "      <td>[ GREEN,  MUSTARD,  PLUM,  SCARLET]</td>\n",
              "      <td>[ BLUE,  DOWN,  GLUM,  LOW]</td>\n",
              "      <td>[ KETCHUP,  MAYO,  RELISH,  TARTAR]</td>\n",
              "      <td>[ HULU,  NETFLIX,  PEACOCK,  PRIME]</td>\n",
              "    </tr>\n",
              "  </tbody>\n",
              "</table>\n",
              "</div>\n",
              "    <div class=\"colab-df-buttons\">\n",
              "\n",
              "  <div class=\"colab-df-container\">\n",
              "    <button class=\"colab-df-convert\" onclick=\"convertToInteractive('df-d263680e-a32c-4c21-827e-4c11ca4e21d5')\"\n",
              "            title=\"Convert this dataframe to an interactive table.\"\n",
              "            style=\"display:none;\">\n",
              "\n",
              "  <svg xmlns=\"http://www.w3.org/2000/svg\" height=\"24px\" viewBox=\"0 -960 960 960\">\n",
              "    <path d=\"M120-120v-720h720v720H120Zm60-500h600v-160H180v160Zm220 220h160v-160H400v160Zm0 220h160v-160H400v160ZM180-400h160v-160H180v160Zm440 0h160v-160H620v160ZM180-180h160v-160H180v160Zm440 0h160v-160H620v160Z\"/>\n",
              "  </svg>\n",
              "    </button>\n",
              "\n",
              "  <style>\n",
              "    .colab-df-container {\n",
              "      display:flex;\n",
              "      gap: 12px;\n",
              "    }\n",
              "\n",
              "    .colab-df-convert {\n",
              "      background-color: #E8F0FE;\n",
              "      border: none;\n",
              "      border-radius: 50%;\n",
              "      cursor: pointer;\n",
              "      display: none;\n",
              "      fill: #1967D2;\n",
              "      height: 32px;\n",
              "      padding: 0 0 0 0;\n",
              "      width: 32px;\n",
              "    }\n",
              "\n",
              "    .colab-df-convert:hover {\n",
              "      background-color: #E2EBFA;\n",
              "      box-shadow: 0px 1px 2px rgba(60, 64, 67, 0.3), 0px 1px 3px 1px rgba(60, 64, 67, 0.15);\n",
              "      fill: #174EA6;\n",
              "    }\n",
              "\n",
              "    .colab-df-buttons div {\n",
              "      margin-bottom: 4px;\n",
              "    }\n",
              "\n",
              "    [theme=dark] .colab-df-convert {\n",
              "      background-color: #3B4455;\n",
              "      fill: #D2E3FC;\n",
              "    }\n",
              "\n",
              "    [theme=dark] .colab-df-convert:hover {\n",
              "      background-color: #434B5C;\n",
              "      box-shadow: 0px 1px 3px 1px rgba(0, 0, 0, 0.15);\n",
              "      filter: drop-shadow(0px 1px 2px rgba(0, 0, 0, 0.3));\n",
              "      fill: #FFFFFF;\n",
              "    }\n",
              "  </style>\n",
              "\n",
              "    <script>\n",
              "      const buttonEl =\n",
              "        document.querySelector('#df-d263680e-a32c-4c21-827e-4c11ca4e21d5 button.colab-df-convert');\n",
              "      buttonEl.style.display =\n",
              "        google.colab.kernel.accessAllowed ? 'block' : 'none';\n",
              "\n",
              "      async function convertToInteractive(key) {\n",
              "        const element = document.querySelector('#df-d263680e-a32c-4c21-827e-4c11ca4e21d5');\n",
              "        const dataTable =\n",
              "          await google.colab.kernel.invokeFunction('convertToInteractive',\n",
              "                                                    [key], {});\n",
              "        if (!dataTable) return;\n",
              "\n",
              "        const docLinkHtml = 'Like what you see? Visit the ' +\n",
              "          '<a target=\"_blank\" href=https://colab.research.google.com/notebooks/data_table.ipynb>data table notebook</a>'\n",
              "          + ' to learn more about interactive tables.';\n",
              "        element.innerHTML = '';\n",
              "        dataTable['output_type'] = 'display_data';\n",
              "        await google.colab.output.renderOutput(dataTable, element);\n",
              "        const docLink = document.createElement('div');\n",
              "        docLink.innerHTML = docLinkHtml;\n",
              "        element.appendChild(docLink);\n",
              "      }\n",
              "    </script>\n",
              "  </div>\n",
              "\n",
              "\n",
              "<div id=\"df-6e704ce8-705d-43c4-88b8-21a0aadf33e1\">\n",
              "  <button class=\"colab-df-quickchart\" onclick=\"quickchart('df-6e704ce8-705d-43c4-88b8-21a0aadf33e1')\"\n",
              "            title=\"Suggest charts\"\n",
              "            style=\"display:none;\">\n",
              "\n",
              "<svg xmlns=\"http://www.w3.org/2000/svg\" height=\"24px\"viewBox=\"0 0 24 24\"\n",
              "     width=\"24px\">\n",
              "    <g>\n",
              "        <path d=\"M19 3H5c-1.1 0-2 .9-2 2v14c0 1.1.9 2 2 2h14c1.1 0 2-.9 2-2V5c0-1.1-.9-2-2-2zM9 17H7v-7h2v7zm4 0h-2V7h2v10zm4 0h-2v-4h2v4z\"/>\n",
              "    </g>\n",
              "</svg>\n",
              "  </button>\n",
              "\n",
              "<style>\n",
              "  .colab-df-quickchart {\n",
              "      --bg-color: #E8F0FE;\n",
              "      --fill-color: #1967D2;\n",
              "      --hover-bg-color: #E2EBFA;\n",
              "      --hover-fill-color: #174EA6;\n",
              "      --disabled-fill-color: #AAA;\n",
              "      --disabled-bg-color: #DDD;\n",
              "  }\n",
              "\n",
              "  [theme=dark] .colab-df-quickchart {\n",
              "      --bg-color: #3B4455;\n",
              "      --fill-color: #D2E3FC;\n",
              "      --hover-bg-color: #434B5C;\n",
              "      --hover-fill-color: #FFFFFF;\n",
              "      --disabled-bg-color: #3B4455;\n",
              "      --disabled-fill-color: #666;\n",
              "  }\n",
              "\n",
              "  .colab-df-quickchart {\n",
              "    background-color: var(--bg-color);\n",
              "    border: none;\n",
              "    border-radius: 50%;\n",
              "    cursor: pointer;\n",
              "    display: none;\n",
              "    fill: var(--fill-color);\n",
              "    height: 32px;\n",
              "    padding: 0;\n",
              "    width: 32px;\n",
              "  }\n",
              "\n",
              "  .colab-df-quickchart:hover {\n",
              "    background-color: var(--hover-bg-color);\n",
              "    box-shadow: 0 1px 2px rgba(60, 64, 67, 0.3), 0 1px 3px 1px rgba(60, 64, 67, 0.15);\n",
              "    fill: var(--button-hover-fill-color);\n",
              "  }\n",
              "\n",
              "  .colab-df-quickchart-complete:disabled,\n",
              "  .colab-df-quickchart-complete:disabled:hover {\n",
              "    background-color: var(--disabled-bg-color);\n",
              "    fill: var(--disabled-fill-color);\n",
              "    box-shadow: none;\n",
              "  }\n",
              "\n",
              "  .colab-df-spinner {\n",
              "    border: 2px solid var(--fill-color);\n",
              "    border-color: transparent;\n",
              "    border-bottom-color: var(--fill-color);\n",
              "    animation:\n",
              "      spin 1s steps(1) infinite;\n",
              "  }\n",
              "\n",
              "  @keyframes spin {\n",
              "    0% {\n",
              "      border-color: transparent;\n",
              "      border-bottom-color: var(--fill-color);\n",
              "      border-left-color: var(--fill-color);\n",
              "    }\n",
              "    20% {\n",
              "      border-color: transparent;\n",
              "      border-left-color: var(--fill-color);\n",
              "      border-top-color: var(--fill-color);\n",
              "    }\n",
              "    30% {\n",
              "      border-color: transparent;\n",
              "      border-left-color: var(--fill-color);\n",
              "      border-top-color: var(--fill-color);\n",
              "      border-right-color: var(--fill-color);\n",
              "    }\n",
              "    40% {\n",
              "      border-color: transparent;\n",
              "      border-right-color: var(--fill-color);\n",
              "      border-top-color: var(--fill-color);\n",
              "    }\n",
              "    60% {\n",
              "      border-color: transparent;\n",
              "      border-right-color: var(--fill-color);\n",
              "    }\n",
              "    80% {\n",
              "      border-color: transparent;\n",
              "      border-right-color: var(--fill-color);\n",
              "      border-bottom-color: var(--fill-color);\n",
              "    }\n",
              "    90% {\n",
              "      border-color: transparent;\n",
              "      border-bottom-color: var(--fill-color);\n",
              "    }\n",
              "  }\n",
              "</style>\n",
              "\n",
              "  <script>\n",
              "    async function quickchart(key) {\n",
              "      const quickchartButtonEl =\n",
              "        document.querySelector('#' + key + ' button');\n",
              "      quickchartButtonEl.disabled = true;  // To prevent multiple clicks.\n",
              "      quickchartButtonEl.classList.add('colab-df-spinner');\n",
              "      try {\n",
              "        const charts = await google.colab.kernel.invokeFunction(\n",
              "            'suggestCharts', [key], {});\n",
              "      } catch (error) {\n",
              "        console.error('Error during call to suggestCharts:', error);\n",
              "      }\n",
              "      quickchartButtonEl.classList.remove('colab-df-spinner');\n",
              "      quickchartButtonEl.classList.add('colab-df-quickchart-complete');\n",
              "    }\n",
              "    (() => {\n",
              "      let quickchartButtonEl =\n",
              "        document.querySelector('#df-6e704ce8-705d-43c4-88b8-21a0aadf33e1 button');\n",
              "      quickchartButtonEl.style.display =\n",
              "        google.colab.kernel.accessAllowed ? 'block' : 'none';\n",
              "    })();\n",
              "  </script>\n",
              "</div>\n",
              "\n",
              "    </div>\n",
              "  </div>\n"
            ],
            "application/vnd.google.colaboratory.intrinsic+json": {
              "type": "dataframe",
              "variable_name": "all_groups",
              "summary": "{\n  \"name\": \"all_groups\",\n  \"rows\": 372,\n  \"fields\": [\n    {\n      \"column\": \"purple_words\",\n      \"properties\": {\n        \"dtype\": \"object\",\n        \"semantic_type\": \"\",\n        \"description\": \"\"\n      }\n    },\n    {\n      \"column\": \"blue_words\",\n      \"properties\": {\n        \"dtype\": \"object\",\n        \"semantic_type\": \"\",\n        \"description\": \"\"\n      }\n    },\n    {\n      \"column\": \"green_words\",\n      \"properties\": {\n        \"dtype\": \"object\",\n        \"semantic_type\": \"\",\n        \"description\": \"\"\n      }\n    },\n    {\n      \"column\": \"yellow_words\",\n      \"properties\": {\n        \"dtype\": \"object\",\n        \"semantic_type\": \"\",\n        \"description\": \"\"\n      }\n    }\n  ]\n}"
            }
          },
          "metadata": {},
          "execution_count": 110
        }
      ]
    },
    {
      "cell_type": "code",
      "source": [
        "'''\n",
        "from sklearn.model_selection import train_test_split\n",
        "\n",
        "all = all_groups[\"purple_words\"]+all_groups[\"yellow_words\"]+all_groups[\"green_words\"]+all_groups[\"blue_words\"]\n",
        "df = pd.DataFrame(all, columns=[\"connection\"])\n",
        "df.head()\n",
        "train, test = train_test_split(df, test_size=0.2)\n",
        "train.head()\n",
        "'''"
      ],
      "metadata": {
        "colab": {
          "base_uri": "https://localhost:8080/",
          "height": 53
        },
        "id": "llYiFD8Yy5Ti",
        "outputId": "4478506e-be05-4d34-a382-80696fee0dc3"
      },
      "execution_count": 111,
      "outputs": [
        {
          "output_type": "execute_result",
          "data": {
            "text/plain": [
              "'\\nfrom sklearn.model_selection import train_test_split\\n\\nall = all_groups[\"purple_words\"]+all_groups[\"yellow_words\"]+all_groups[\"green_words\"]+all_groups[\"blue_words\"]\\ndf = pd.DataFrame(all, columns=[\"connection\"])\\ndf.head()\\ntrain, test = train_test_split(df, test_size=0.2)\\ntrain.head()\\n'"
            ],
            "application/vnd.google.colaboratory.intrinsic+json": {
              "type": "string"
            }
          },
          "metadata": {},
          "execution_count": 111
        }
      ]
    },
    {
      "cell_type": "code",
      "source": [
        "all = list(str_groups[\"purple_words\"])\n",
        "all.append(list(str_groups[\"yellow_words\"]))\n",
        "all.append(list(str_groups[\"green_words\"]))\n",
        "all.append(list(str_groups[\"blue_words\"]))\n",
        "\n",
        "all[0:5]"
      ],
      "metadata": {
        "colab": {
          "base_uri": "https://localhost:8080/"
        },
        "id": "Bs4GKeYvkMIp",
        "outputId": "09d4a267-aa5d-4f9d-af29-70f543c2f505"
      },
      "execution_count": 112,
      "outputs": [
        {
          "output_type": "execute_result",
          "data": {
            "text/plain": [
              "[' KAYAK, LEVEL, MOM, RACE CAR',\n",
              " ' ARE, QUEUE, SEA, WHY',\n",
              " ' AMIGO, KING, STOOGE, TENOR',\n",
              " ' BAT, IRON, SPIDER, SUPER',\n",
              " ' GREEN, MUSTARD, PLUM, SCARLET']"
            ]
          },
          "metadata": {},
          "execution_count": 112
        }
      ]
    },
    {
      "cell_type": "code",
      "source": [
        "import random\n",
        "import torch\n",
        "from transformers import BertTokenizer, BertModel\n",
        "from sklearn.metrics.pairwise import cosine_similarity"
      ],
      "metadata": {
        "id": "5VEh0YNp7jRt"
      },
      "execution_count": 113,
      "outputs": []
    },
    {
      "cell_type": "code",
      "source": [
        "random_seed = 36\n",
        "random.seed(random_seed)\n",
        "torch.manual_seed(random_seed)\n",
        "if torch.cuda.is_available():\n",
        "    torch.cuda.manual_seed_all(random_seed)"
      ],
      "metadata": {
        "id": "v8UbQYUo7q96"
      },
      "execution_count": 122,
      "outputs": []
    },
    {
      "cell_type": "code",
      "source": [
        "tokenizer = BertTokenizer.from_pretrained('bert-base-uncased')\n",
        "model = BertModel.from_pretrained('bert-base-uncased')"
      ],
      "metadata": {
        "id": "FWXiNtcl7vLz"
      },
      "execution_count": 115,
      "outputs": []
    },
    {
      "cell_type": "code",
      "source": [
        "def get_embedding(text):\n",
        "    inputs = tokenizer(text, return_tensors='pt', padding=True, truncation=True)\n",
        "\n",
        "    with torch.no_grad():\n",
        "      outputs = model(**inputs)\n",
        "      #outputs = model(input_ids, attention_mask=attention_mask)\n",
        "      # The embeddings are in the last_hidden_state tensor\n",
        "      # We use the [CLS] token representation as a sentence embedding, but for individual words, we use the actual tokens.\n",
        "      embeddings = outputs.last_hidden_state\n",
        "      word_embeddings = embeddings[0, 1:1+len(text)]\n",
        "\n",
        "    # Convert the embeddings to numpy arrays\n",
        "    word_embeddings = np.array(word_embeddings)\n",
        "    #word_embeddings.reshape(1, -1)\n",
        "    return word_embeddings"
      ],
      "metadata": {
        "id": "XWlclnoW7ze0"
      },
      "execution_count": 143,
      "outputs": []
    },
    {
      "cell_type": "code",
      "source": [
        "def get_similarity(text1, text2):\n",
        "    embedding_1 = get_embedding(text1)\n",
        "    embedding_2 = get_embedding(text2)\n",
        "    similarity_score = cosine_similarity(embedding_1, embedding_2)\n",
        "    return similarity_score[0][0]"
      ],
      "metadata": {
        "id": "PHdtspVOF9dt"
      },
      "execution_count": 144,
      "outputs": []
    },
    {
      "cell_type": "code",
      "source": [
        "get_similarity(\"mayo\", \"mayor\")"
      ],
      "metadata": {
        "colab": {
          "base_uri": "https://localhost:8080/"
        },
        "id": "8YPYctBoEilI",
        "outputId": "43b712d0-d336-4a2b-bf94-1a9e1c38d87b"
      },
      "execution_count": 146,
      "outputs": [
        {
          "output_type": "execute_result",
          "data": {
            "text/plain": [
              "0.6001047"
            ]
          },
          "metadata": {},
          "execution_count": 146
        }
      ]
    },
    {
      "cell_type": "code",
      "source": [
        "from Levenshtein import distance, jaro, ratio\n",
        "\n",
        "distance(\"mutter\", \"mother\")\n",
        "jaro(\"mutter\", \"mother\")\n"
      ],
      "metadata": {
        "colab": {
          "base_uri": "https://localhost:8080/"
        },
        "id": "FJv2JOEiV8gu",
        "outputId": "a6a6cd55-e953-40d4-d007-735edfcaad4a"
      },
      "execution_count": 119,
      "outputs": [
        {
          "output_type": "execute_result",
          "data": {
            "text/plain": [
              "0.7777777777777777"
            ]
          },
          "metadata": {},
          "execution_count": 119
        }
      ]
    },
    {
      "cell_type": "code",
      "source": [],
      "metadata": {
        "id": "TKq7PJRQVqUV"
      },
      "execution_count": 119,
      "outputs": []
    },
    {
      "cell_type": "code",
      "source": [
        "green_groups = list(all_groups[\"green_words\"])\n",
        "green_context_scores = []\n",
        "\n",
        "#use sum of cosine differences as group mutual similarity?\n",
        "green_groups[4]\n",
        "\n",
        "for word in green_groups[4]:\n",
        "  this_sim = 0\n",
        "  for other_word in green_groups[4]:\n",
        "    if other_word != word:\n",
        "      this_sim += get_similarity(word, other_word)\n",
        "  green_context_scores.append(this_sim/3)\n",
        "\n",
        "green_context_scores"
      ],
      "metadata": {
        "colab": {
          "base_uri": "https://localhost:8080/"
        },
        "id": "rBZjJ9ELGG3d",
        "outputId": "c4768644-c202-403d-9d50-58aa67b841b5"
      },
      "execution_count": 120,
      "outputs": [
        {
          "output_type": "execute_result",
          "data": {
            "text/plain": [
              "[0.4304671064019203,\n",
              " 0.1315879449248314,\n",
              " 0.4286969155073166,\n",
              " 0.4545772274335225]"
            ]
          },
          "metadata": {},
          "execution_count": 120
        }
      ]
    },
    {
      "cell_type": "code",
      "source": [],
      "metadata": {
        "id": "LgMUwvQJSQlR"
      },
      "execution_count": 120,
      "outputs": []
    }
  ]
}