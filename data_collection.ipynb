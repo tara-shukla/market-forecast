{
  "nbformat": 4,
  "nbformat_minor": 0,
  "metadata": {
    "colab": {
      "provenance": [],
      "authorship_tag": "ABX9TyPIxj2qVu0C7C2TzYWZRNXJ",
      "include_colab_link": true
    },
    "kernelspec": {
      "name": "python3",
      "display_name": "Python 3"
    },
    "language_info": {
      "name": "python"
    }
  },
  "cells": [
    {
      "cell_type": "markdown",
      "metadata": {
        "id": "view-in-github",
        "colab_type": "text"
      },
      "source": [
        "<a href=\"https://colab.research.google.com/github/tara-shukla/nyt-connections/blob/main/data_collection.ipynb\" target=\"_parent\"><img src=\"https://colab.research.google.com/assets/colab-badge.svg\" alt=\"Open In Colab\"/></a>"
      ]
    },
    {
      "cell_type": "code",
      "execution_count": 66,
      "metadata": {
        "id": "2UvVU0SXNmoY"
      },
      "outputs": [],
      "source": [
        "from bs4 import BeautifulSoup\n",
        "import matplotlib.pyplot as plt\n",
        "import numpy as np\n",
        "import requests\n",
        "import pandas as pd"
      ]
    },
    {
      "cell_type": "code",
      "source": [
        "soln_url = \"https://tryhardguides.com/nyt-connections-answers/\"\n",
        "webpage = requests.get(soln_url)\n",
        "nyt_soup = BeautifulSoup(webpage.text, \"html.parser\")\n",
        "nyt_soup.title"
      ],
      "metadata": {
        "colab": {
          "base_uri": "https://localhost:8080/"
        },
        "id": "whvqsqAUN8zy",
        "outputId": "e8a3e367-3f64-4d23-b389-48d238c8caf0"
      },
      "execution_count": 67,
      "outputs": [
        {
          "output_type": "execute_result",
          "data": {
            "text/plain": [
              "<title>NYT Connections Answers Today [Answer Archive &amp; Past Games] - Try Hard Guides</title>"
            ]
          },
          "metadata": {},
          "execution_count": 67
        }
      ]
    },
    {
      "cell_type": "code",
      "source": [
        "categories = nyt_soup.find_all(\"li\")\n",
        "categories"
      ],
      "metadata": {
        "id": "QocqSOZJOEy2"
      },
      "execution_count": null,
      "outputs": []
    },
    {
      "cell_type": "code",
      "source": [
        "categories[80].text"
      ],
      "metadata": {
        "colab": {
          "base_uri": "https://localhost:8080/",
          "height": 35
        },
        "id": "mVxtEi5BQA6j",
        "outputId": "685a3137-bd1b-4ddd-c069-8f5b687e6c04"
      },
      "execution_count": 69,
      "outputs": [
        {
          "output_type": "execute_result",
          "data": {
            "text/plain": [
              "'FEELING SOME TYPE OF WAY - BITTER, SALTY, SORE, UPSET'"
            ],
            "application/vnd.google.colaboratory.intrinsic+json": {
              "type": "string"
            }
          },
          "metadata": {},
          "execution_count": 69
        }
      ]
    },
    {
      "cell_type": "code",
      "source": [
        "groups = []\n",
        "for x in categories:\n",
        "        groups.append(str(x.text))\n",
        "groups= groups[34:]"
      ],
      "metadata": {
        "id": "6zPlzfnKQTH9"
      },
      "execution_count": 70,
      "outputs": []
    },
    {
      "cell_type": "code",
      "source": [
        "processed_groups = []\n",
        "for s in groups:\n",
        "    index = s.find('2023')\n",
        "    if index != -1:\n",
        "        processed_groups.append(s[index + len('2023'):])\n",
        "    else:\n",
        "        index = s.find('2024')\n",
        "        if index != -1:\n",
        "            processed_groups.append(s[index + len('2022'):])\n",
        "        else:\n",
        "          processed_groups.append(s)\n",
        "processed_groups"
      ],
      "metadata": {
        "id": "6yogwAFdTWI8"
      },
      "execution_count": null,
      "outputs": []
    },
    {
      "cell_type": "code",
      "source": [
        "\n",
        "data = [element for i, element in enumerate(processed_groups) if i % 5 != 0]\n",
        "data"
      ],
      "metadata": {
        "collapsed": true,
        "id": "UIY614QsUwAq"
      },
      "execution_count": null,
      "outputs": []
    },
    {
      "cell_type": "code",
      "source": [
        "data.reverse()\n",
        "data = data[10:]"
      ],
      "metadata": {
        "id": "hFMnBVYnuJQ1"
      },
      "execution_count": 87,
      "outputs": []
    },
    {
      "cell_type": "code",
      "source": [
        "data"
      ],
      "metadata": {
        "collapsed": true,
        "id": "1wtG3R6Xu1l0"
      },
      "execution_count": null,
      "outputs": []
    },
    {
      "cell_type": "code",
      "source": [
        "games = []\n",
        "i = 0\n",
        "for x in range (1, 373):\n",
        "  game = []\n",
        "  for x in range(1,5):\n",
        "    game.append(data[i])\n",
        "    i += 1\n",
        "  games.append(game)\n",
        "\n",
        "games"
      ],
      "metadata": {
        "collapsed": true,
        "id": "xfOYXMdZvori"
      },
      "execution_count": null,
      "outputs": []
    },
    {
      "cell_type": "code",
      "source": [
        "games[0]"
      ],
      "metadata": {
        "colab": {
          "base_uri": "https://localhost:8080/"
        },
        "id": "IxtCMB-sAPgU",
        "outputId": "9f8857f4-de25-4646-eea1-2f0c76fb92ca"
      },
      "execution_count": 145,
      "outputs": [
        {
          "output_type": "execute_result",
          "data": {
            "text/plain": [
              "['PALINDROMES - KAYAK, LEVEL, MOM, RACE CAR',\n",
              " 'KEYBOARD KEYS - OPTION, RETURN, SHIFT, TAB',\n",
              " 'NBA TEAMS - BUCKS, HEAT, JAZZ, NETS',\n",
              " 'WET WEATHER - HAIL, RAIN, SLEET, SNOW']"
            ]
          },
          "metadata": {},
          "execution_count": 145
        }
      ]
    },
    {
      "cell_type": "code",
      "source": [
        "\n",
        "columns = [\"purple\", \"blue\", \"green\", \"yellow\"]\n",
        "df = pd.DataFrame(data=games, columns=columns)\n",
        "df"
      ],
      "metadata": {
        "id": "TUtVAeAoXAOa"
      },
      "execution_count": null,
      "outputs": []
    },
    {
      "cell_type": "code",
      "source": [
        "for col in columns:\n",
        "    # Split the column by \"-\" and expand into separate columns\n",
        "    split_col = df[col].str.split('-', expand=True)\n",
        "\n",
        "    # Rename the split columns\n",
        "    new_col_names = [f\"{col}_{i+1}\" for i in range(split_col.shape[1])]\n",
        "    split_col.columns = new_col_names\n",
        "\n",
        "    # Concatenate the split columns to the original DataFrame\n",
        "    df = pd.concat([df, split_col], axis=1)\n",
        "\n",
        "# Drop the original columns that were split\n",
        "df = df.drop(columns=columns)"
      ],
      "metadata": {
        "id": "R8gQCDo2Bp5m"
      },
      "execution_count": 160,
      "outputs": []
    },
    {
      "cell_type": "code",
      "source": [
        "print(df.to_string())"
      ],
      "metadata": {
        "collapsed": true,
        "id": "0zvIYZuaCERl"
      },
      "execution_count": null,
      "outputs": []
    },
    {
      "cell_type": "code",
      "source": [
        "csv_filename = 'nyt_connections.csv'\n",
        "df.to_csv(csv_filename, index=False)\n",
        "\n",
        "print(f\"DataFrame saved to {csv_filename}\")"
      ],
      "metadata": {
        "colab": {
          "base_uri": "https://localhost:8080/"
        },
        "id": "P3g2obWZ-CT8",
        "outputId": "4db28bad-997a-457b-d2e6-9981da9f3802"
      },
      "execution_count": 166,
      "outputs": [
        {
          "output_type": "stream",
          "name": "stdout",
          "text": [
            "DataFrame saved to nyt_connections.csv\n"
          ]
        }
      ]
    }
  ]
}