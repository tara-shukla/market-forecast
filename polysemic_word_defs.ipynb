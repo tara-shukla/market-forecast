{
  "nbformat": 4,
  "nbformat_minor": 0,
  "metadata": {
    "colab": {
      "provenance": [],
      "authorship_tag": "ABX9TyN/qfS7o8xFGLPErNuADWAZ",
      "include_colab_link": true
    },
    "kernelspec": {
      "name": "python3",
      "display_name": "Python 3"
    },
    "language_info": {
      "name": "python"
    }
  },
  "cells": [
    {
      "cell_type": "markdown",
      "metadata": {
        "id": "view-in-github",
        "colab_type": "text"
      },
      "source": [
        "<a href=\"https://colab.research.google.com/github/tara-shukla/nyt-connections/blob/main/polysemic_word_defs.ipynb\" target=\"_parent\"><img src=\"https://colab.research.google.com/assets/colab-badge.svg\" alt=\"Open In Colab\"/></a>"
      ]
    },
    {
      "cell_type": "code",
      "execution_count": 1,
      "metadata": {
        "id": "-McyET0V4asa"
      },
      "outputs": [],
      "source": [
        "from bs4 import BeautifulSoup\n",
        "import matplotlib.pyplot as plt\n",
        "import numpy as np\n",
        "import requests\n",
        "import pandas as pd"
      ]
    },
    {
      "cell_type": "code",
      "source": [
        "def get_webster_definitions(word):\n",
        "  url = \"https://www.merriam-webster.com/dictionary/\" + word\n",
        "  webpage = requests.get(url)\n",
        "  word_soup = BeautifulSoup(webpage.text, \"html.parser\")\n",
        "\n",
        "  definitions = word_soup.find_all('span', class_='dt')\n",
        "  sentences = []\n",
        "\n",
        "  for definition in definitions:\n",
        "    this_sent = \"\"\n",
        "    definition_text = definition.find('span', class_='dtText').get_text()  # Adjust the selector as needed#strip=True\n",
        "    this_sent+=definition_text\n",
        "\n",
        "\n",
        "    # Extract associated example sentences\n",
        "    example_sentences = definition.find_all('span', class_='ex-sent')  # Assuming example sentences are in divs with class 'example-sentence'\n",
        "    for sentence in example_sentences:\n",
        "        sentence_text = sentence.get_text()\n",
        "        this_sent+= \" \"\n",
        "        this_sent+=sentence_text\n",
        "    sentences.append(this_sent[2:])\n",
        "\n",
        "  return sentences"
      ],
      "metadata": {
        "id": "CG4Ukp3-AeZ0"
      },
      "execution_count": 33,
      "outputs": []
    },
    {
      "cell_type": "code",
      "source": [],
      "metadata": {
        "colab": {
          "base_uri": "https://localhost:8080/"
        },
        "id": "cEDaJnDI4u7A",
        "outputId": "eb710769-6752-48af-a528-55f30b8b383c"
      },
      "execution_count": 35,
      "outputs": [
        {
          "output_type": "execute_result",
          "data": {
            "text/plain": [
              "['the fleshy, usually rounded red, yellow, or green edible pome fruit of a usually cultivated tree (genus Malus) of the rose family',\n",
              " 'a fruit (such as a star apple) or other vegetative growth (such as an oak apple) suggestive of an apple',\n",
              " 'one that is highly cherished his daughter is the apple of his eye',\n",
              " 'a rounded fruit with a red, yellow, or green skin, firm white flesh and a seedy core',\n",
              " 'the fleshy usually rounded and red, yellow, or green edible pome fruit of a tree (genus Malus) of the rose family']"
            ]
          },
          "metadata": {},
          "execution_count": 35
        }
      ]
    },
    {
      "cell_type": "code",
      "source": [],
      "metadata": {
        "id": "neXQR9JhCoap"
      },
      "execution_count": null,
      "outputs": []
    }
  ]
}