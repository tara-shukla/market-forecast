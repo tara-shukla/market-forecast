{
  "nbformat": 4,
  "nbformat_minor": 0,
  "metadata": {
    "colab": {
      "provenance": [],
      "authorship_tag": "ABX9TyNSIj3IpKN6Y1P1JbFaovhf",
      "include_colab_link": true
    },
    "kernelspec": {
      "name": "python3",
      "display_name": "Python 3"
    },
    "language_info": {
      "name": "python"
    }
  },
  "cells": [
    {
      "cell_type": "markdown",
      "metadata": {
        "id": "view-in-github",
        "colab_type": "text"
      },
      "source": [
        "<a href=\"https://colab.research.google.com/github/tara-shukla/nyt-connections/blob/main/polysemic_word_defs.ipynb\" target=\"_parent\"><img src=\"https://colab.research.google.com/assets/colab-badge.svg\" alt=\"Open In Colab\"/></a>"
      ]
    },
    {
      "cell_type": "code",
      "execution_count": 2,
      "metadata": {
        "id": "-McyET0V4asa"
      },
      "outputs": [],
      "source": [
        "from bs4 import BeautifulSoup\n",
        "import matplotlib.pyplot as plt\n",
        "import numpy as np\n",
        "import requests\n",
        "import pandas as pd"
      ]
    },
    {
      "cell_type": "code",
      "source": [
        "def get_webster_definitions(word):\n",
        "  url = \"https://www.merriam-webster.com/dictionary/\" + word\n",
        "  webpage = requests.get(url)\n",
        "  word_soup = BeautifulSoup(webpage.text, \"html.parser\")\n",
        "\n",
        "  definitions = word_soup.find_all('span', class_='dt')\n",
        "  sentences = []\n",
        "\n",
        "  for definition in definitions:\n",
        "    this_sent = word\n",
        "    # Extract definition text\n",
        "    definition_text = definition.find('span', class_='dtText').get_text()\n",
        "    this_sent+= definition_text\n",
        "\n",
        "\n",
        "    # Extract associated example sentences\n",
        "    example_sentences = definition.find_all('span', class_='ex-sent')\n",
        "    for sentence in example_sentences:\n",
        "        sentence_text = sentence.get_text()\n",
        "        this_sent+= \" \"\n",
        "        this_sent+=sentence_text\n",
        "    sentences.append(this_sent)\n",
        "\n",
        "  return sentences"
      ],
      "metadata": {
        "id": "CG4Ukp3-AeZ0"
      },
      "execution_count": 16,
      "outputs": []
    },
    {
      "cell_type": "code",
      "source": [
        "def scrape_headings(word_soup):\n",
        "  html_headings = word_soup.find_all('span','mw-headline')\n",
        "  headings = []\n",
        "  for heading in html_headings:\n",
        "    headings.append(heading.get_text())\n",
        "  if \"Other uses\" in headings:\n",
        "    headings.remove(\"Other uses\")\n",
        "  return headings[:-1]\n",
        "\n",
        "def wiki_page_exists(word_soup, url):\n",
        "  no_page_exists = word_soup.find('div', 'no-article-text-sister-projects')\n",
        "  if no_page_exists:\n",
        "    return False\n",
        "  else:\n",
        "    return True\n",
        "\n",
        "\n",
        "def get_wiki_themes(word):\n",
        "  url = \"https://en.wikipedia.org/wiki/\" + word + \"_(disambiguation)\"\n",
        "  webpage = requests.get(url)\n",
        "  word_soup = BeautifulSoup(webpage.text, \"html.parser\")\n",
        "\n",
        "  if not word_soup.find('div', 'no-article-text-sister-projects'):\n",
        "    return scrape_headings(word_soup)\n",
        "  else:\n",
        "    return [\"not a polysemic word probably! :) \"]\n",
        ""
      ],
      "metadata": {
        "id": "cEDaJnDI4u7A"
      },
      "execution_count": 1,
      "outputs": []
    },
    {
      "cell_type": "code",
      "source": [
        "get_wiki_themes(\"cruise\")"
      ],
      "metadata": {
        "colab": {
          "base_uri": "https://localhost:8080/"
        },
        "id": "neXQR9JhCoap",
        "outputId": "4ff8eadb-60cf-4a2b-ff40-1fbc5e0b46ee"
      },
      "execution_count": 4,
      "outputs": [
        {
          "output_type": "execute_result",
          "data": {
            "text/plain": [
              "['Tourism',\n",
              " 'Aeronautics and aircraft',\n",
              " 'Automotive',\n",
              " 'Fashion',\n",
              " 'Films',\n",
              " 'Geography',\n",
              " 'Music',\n",
              " 'Radio and television']"
            ]
          },
          "metadata": {},
          "execution_count": 4
        }
      ]
    },
    {
      "cell_type": "code",
      "source": [
        "get_webster_definitions(\"cruise\")"
      ],
      "metadata": {
        "colab": {
          "base_uri": "https://localhost:8080/"
        },
        "id": "hVxrNUMgNgOH",
        "outputId": "326fe5a7-9945-4ade-c5ae-f4380b962cdf"
      },
      "execution_count": 17,
      "outputs": [
        {
          "output_type": "execute_result",
          "data": {
            "text/plain": [
              "['cruise: to sail about touching at a series of ports',\n",
              " \"cruise: to move or proceed speedily, smoothly, or effortlessly I'll cruise over to her house to see if she's home\",\n",
              " 'cruise: to travel without destination or purpose',\n",
              " 'cruise: to go about the streets at random but on the lookout for possible developments the cabdriver cruised for an hour before being hailed',\n",
              " 'cruise: to search (as in public places) for a sexual partner',\n",
              " 'cruise: to fly at the most efficient operating speed',\n",
              " 'cruise: to travel at a speed suitable for being maintained for a long distance',\n",
              " 'cruise: to cruise over or about',\n",
              " 'cruise: to inspect (land) with reference to possible lumber yield',\n",
              " 'cruise: to search in (a public place) for a sexual partner',\n",
              " 'cruise: to approach and suggest sexual relations to',\n",
              " 'cruise: to explore or search the offerings of',\n",
              " 'cruise: an act or an instance of cruising',\n",
              " 'cruise: to travel by boat often stopping at a series of ports',\n",
              " 'cruise: to travel for enjoyment',\n",
              " 'cruise: to travel at the best operating speed the cruising speed of an airplane']"
            ]
          },
          "metadata": {},
          "execution_count": 17
        }
      ]
    }
  ]
}