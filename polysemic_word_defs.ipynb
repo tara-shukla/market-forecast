{
  "nbformat": 4,
  "nbformat_minor": 0,
  "metadata": {
    "colab": {
      "provenance": [],
      "authorship_tag": "ABX9TyPY/iVFJYBXfY8ZOmAKmjNZ",
      "include_colab_link": true
    },
    "kernelspec": {
      "name": "python3",
      "display_name": "Python 3"
    },
    "language_info": {
      "name": "python"
    }
  },
  "cells": [
    {
      "cell_type": "markdown",
      "metadata": {
        "id": "view-in-github",
        "colab_type": "text"
      },
      "source": [
        "<a href=\"https://colab.research.google.com/github/tara-shukla/nyt-connections/blob/main/polysemic_word_defs.ipynb\" target=\"_parent\"><img src=\"https://colab.research.google.com/assets/colab-badge.svg\" alt=\"Open In Colab\"/></a>"
      ]
    },
    {
      "cell_type": "code",
      "execution_count": 1,
      "metadata": {
        "id": "-McyET0V4asa"
      },
      "outputs": [],
      "source": [
        "from bs4 import BeautifulSoup\n",
        "import matplotlib.pyplot as plt\n",
        "import numpy as np\n",
        "import requests\n",
        "import pandas as pd"
      ]
    },
    {
      "cell_type": "code",
      "source": [
        "def get_webster_definitions(word):\n",
        "  url = \"https://www.merriam-webster.com/dictionary/\" + word\n",
        "  webpage = requests.get(url)\n",
        "  word_soup = BeautifulSoup(webpage.text, \"html.parser\")\n",
        "\n",
        "  definitions = word_soup.find_all('span', class_='dt')\n",
        "  sentences = []\n",
        "\n",
        "  for definition in definitions:\n",
        "    this_sent = \"\"\n",
        "    definition_text = definition.find('span', class_='dtText').get_text()  # Adjust the selector as needed#strip=True\n",
        "    this_sent+=definition_text\n",
        "\n",
        "\n",
        "    # Extract associated example sentences\n",
        "    example_sentences = definition.find_all('span', class_='ex-sent')  # Assuming example sentences are in divs with class 'example-sentence'\n",
        "    for sentence in example_sentences:\n",
        "        sentence_text = sentence.get_text()\n",
        "        this_sent+= \" \"\n",
        "        this_sent+=sentence_text\n",
        "    sentences.append(this_sent[2:])\n",
        "\n",
        "  return sentences"
      ],
      "metadata": {
        "id": "CG4Ukp3-AeZ0"
      },
      "execution_count": 33,
      "outputs": []
    },
    {
      "cell_type": "code",
      "source": [
        "def scrape_headings(word_soup):\n",
        "  html_headings = word_soup.find_all('span','mw-headline')\n",
        "  headings = []\n",
        "  for heading in html_headings:\n",
        "    headings.append(heading.get_text())\n",
        "  return headings[:-1]\n",
        "\n",
        "def wiki_page_exists(word_soup, url):\n",
        "  no_page_exists = word_soup.find('div', 'no-article-text-sister-projects')\n",
        "  if no_page_exists:\n",
        "    return False\n",
        "  else:\n",
        "    return True\n",
        "\n",
        "\n",
        "def get_wiki_themes(word):\n",
        "  url = \"https://en.wikipedia.org/wiki/\" + word + \"_(disambiguation)\"\n",
        "  webpage = requests.get(url)\n",
        "  word_soup = BeautifulSoup(webpage.text, \"html.parser\")\n",
        "\n",
        "  if not word_soup.find('div', 'no-article-text-sister-projects'):\n",
        "    return scrape_headings(word_soup)\n",
        "  else:\n",
        "    return [\"not a polysemic word probably! :) \"]\n",
        ""
      ],
      "metadata": {
        "id": "cEDaJnDI4u7A"
      },
      "execution_count": 63,
      "outputs": []
    },
    {
      "cell_type": "code",
      "source": [
        "get_wiki_themes(\"pizza\")"
      ],
      "metadata": {
        "colab": {
          "base_uri": "https://localhost:8080/"
        },
        "id": "neXQR9JhCoap",
        "outputId": "4da34bc3-98a7-4d28-d56c-3b55fd7730cc"
      },
      "execution_count": 65,
      "outputs": [
        {
          "output_type": "execute_result",
          "data": {
            "text/plain": [
              "['Films and fictional characters',\n",
              " '\"Pizza\" South Asian horror film franchise',\n",
              " 'Music',\n",
              " 'Television',\n",
              " 'Other uses']"
            ]
          },
          "metadata": {},
          "execution_count": 65
        }
      ]
    },
    {
      "cell_type": "code",
      "source": [],
      "metadata": {
        "id": "hVxrNUMgNgOH"
      },
      "execution_count": null,
      "outputs": []
    }
  ]
}